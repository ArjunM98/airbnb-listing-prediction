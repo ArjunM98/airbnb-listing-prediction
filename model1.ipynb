{
  "cells": [
    {
      "metadata": {
        "_uuid": "8f2839f25d086af736a60e9eeb907d3b93b6e0e5",
        "_cell_guid": "b1076dfc-b9ad-4769-8c92-a6c4dae69d19",
        "trusted": true
      },
      "cell_type": "code",
      "source": "import torch\nimport torch.utils.data\nimport torch.nn as nn\nfrom torch.nn import functional as F\nimport torch.optim as optim\nimport numpy as np\nimport matplotlib.pyplot as plt\nimport pandas as pd\n\nimport os\nGPU = torch.cuda.is_available()",
      "execution_count": null,
      "outputs": []
    },
    {
      "metadata": {
        "trusted": true,
        "_uuid": "de2676d77993266b2611ed7614b0e4d420bbe5cd"
      },
      "cell_type": "code",
      "source": "# Grab data from csv\n\ndf = pd.read_csv('../input/aps360_airbnb1.csv', index_col=False)\ndf.head()",
      "execution_count": null,
      "outputs": []
    },
    {
      "metadata": {
        "trusted": true,
        "_uuid": "d7dca69e9dffc5c70b4207ce5ea2488e50197ebc"
      },
      "cell_type": "code",
      "source": "df_cols = list(df.columns)\ndf_cols.remove('price')\ndf_cols.remove('Unnamed: 56')\ndf_cols.remove('Unnamed: 0')\ndf_cols.append('price')\ndf = df[df_cols]\n\ninput_features = len(df_cols) - 1\nprint(input_features)\nprint(len(df))",
      "execution_count": null,
      "outputs": []
    },
    {
      "metadata": {
        "trusted": true,
        "_uuid": "40dd1f91a21afe521372798eca591d5996844113"
      },
      "cell_type": "code",
      "source": "# turn data into \ndatanp = df.values.astype(np.float32)\nnp.random.seed(50) # set the numpy seed for consistent split\n\n# Data split count (train/valid/test): 2276/758/759\ntrain_set = np.random.choice(range(3793), 2276, replace=False)\ntrain_set.sort()\nvalid_set = np.random.choice([i for i in range(3793) if i not in train_set], 758, replace=False)\nvalid_set.sort()\ntest_set = [i for i in range(3793) if i not in train_set and i not in valid_set]\n\ntrain_set = datanp[train_set]\nvalid_set = datanp[valid_set]\ntest_set = datanp[test_set]\n\nseparator = torch.from_numpy(np.array(range(input_features)))",
      "execution_count": null,
      "outputs": []
    },
    {
      "metadata": {
        "trusted": true,
        "_uuid": "fa1a79c3c9be60e265fd200ac59e4bf23e603979"
      },
      "cell_type": "code",
      "source": "class AirbnbPredictor(nn.Module):\n    '''\n    Class that holds regression model for Airbnb listing price prediction\n\n    input : feature tensor of N x _______\n    output : float value of price estimate (normalized)\n    '''\n\n    def __init__(self, N):\n        super(AirbnbPredictor, self).__init__()\n        self.name = 'AirbnbPredictor'\n        self.features = nn.Sequential(\n            nn.Linear(N, 10),\n            nn.ReLU(inplace=True),\n            nn.Linear(10, 1),\n            nn.Sigmoid()\n        )\n\n    def forward(self, x):\n        x = self.features(x)\n        return x",
      "execution_count": null,
      "outputs": []
    },
    {
      "metadata": {
        "_cell_guid": "79c7e3d0-c299-4dcb-8224-4455121ee9b0",
        "_uuid": "d629ff2d2480ee46fbb7e2d37f6b5fab8052498a",
        "trusted": true
      },
      "cell_type": "code",
      "source": "def evaluate(model, loader, criterion):\n    \"\"\" Evaluate the network on the validation set.\n\n    Args:\n        model: PyTorch neural network object\n        loader: PyTorch data loader for the dataset\n        criterion: The loss function\n\n    Returns:\n        acc: A scalar for the avg classification acc over the validation set\n        loss: A scalar for the average loss function over the validation set\n    \"\"\"\n    total_loss = 0.0\n    total_epoch = 0\n\n    for i, data in enumerate(loader, 0):\n        price = torch.index_select(data, 1, torch.LongTensor([input_features]))\n        inputs = torch.index_select(data, 1, separator)\n        if GPU:\n            inputs = inputs.cuda()\n            price = price.cuda()\n\n        outputs = model(inputs)\n        total_epoch += len(price)\n        loss = criterion(outputs, price)\n        total_loss += loss.item()\n\n    loss = float(total_loss) / (i + 1)\n\n    return loss",
      "execution_count": null,
      "outputs": []
    },
    {
      "metadata": {
        "trusted": true,
        "_uuid": "55164daf884556311a433cd8db9140b49f322b5e"
      },
      "cell_type": "code",
      "source": "# Training code\n\ndef train_net(model, train_set, valid_set, batch_size, learning_rate, num_epochs, name='default'):\n    ########################################################################\n    # Fixed PyTorch random seed for reproducible result\n    torch.manual_seed(1000)\n    if GPU:\n        torch.cuda.manual_seed_all(1000)\n\n    ########################################################################\n    # Setup data loaders for np arrays\n    train_loader = torch.utils.data.DataLoader(train_set, batch_size=batch_size, shuffle=True, num_workers=0)\n    valid_loader = torch.utils.data.DataLoader(valid_set, batch_size=batch_size, shuffle=True, num_workers=0)\n    \n    print(\"Data loaded. Starting training:\")\n\n    ########################################################################\n    # Loss function and optimizer\n    criterion = torch.nn.MSELoss()\n    optimizer = torch.optim.SGD(model.parameters(), lr=learning_rate)\n\n    train_loss = np.zeros(num_epochs)\n    val_acc = np.zeros(num_epochs)\n    val_loss = np.zeros(num_epochs)\n\n    ########################################################################\n    # Train the network\n    for epoch in range(num_epochs):\n        total_train_loss = 0.\n        total_epoch = 0\n\n        for i, data in enumerate(train_loader):\n            price = torch.index_select(data, 1, torch.LongTensor([input_features]))\n            inputs = torch.index_select(data, 1, separator)\n            if GPU:\n                inputs = inputs.cuda()\n                price = price.cuda()\n\n            # Zero the parameter gradients\n            optimizer.zero_grad()\n\n            # Forward pass, backward pass, and optimize\n            outputs = model(inputs)\n            loss = criterion(outputs, price)\n            loss.backward()\n            optimizer.step()\n\n            # Calculate the statistics\n            total_train_loss += loss.item()\n            total_epoch += len(outputs)\n        \n        train_loss[epoch] = float(total_train_loss) / (i+1)\n        val_loss[epoch] = evaluate(model, valid_loader, criterion)\n\n        print((\"Epoch {}: Train loss: {} | \"+ \"Validation loss: {}\").format(epoch + 1, train_loss[epoch], val_loss[epoch]))\n\n        # Save the current model (checkpoint) to a file\n        model_path = \"MODEL{}_NAME{}_EPOCH{}\".format(model.name, name, epoch)\n        torch.save(model.state_dict(), model_path)\n\n    print('Finished Training')\n\n    train_loss, val_loss\n    plt.title(\"Training & Validation Loss\")\n    plt.plot(range(1,num_epochs+1), train_loss, label=\"Train\")\n    plt.plot(range(1,num_epochs+1), val_loss, label=\"Validation\")\n    plt.xlabel(\"Epoch\")\n    plt.ylabel(\"Loss\")\n    plt.legend(loc='best')\n    plt.show()",
      "execution_count": null,
      "outputs": []
    },
    {
      "metadata": {
        "trusted": true,
        "_uuid": "570a66eeff9d880035a9ce0ad9bde14daa5b61fe"
      },
      "cell_type": "code",
      "source": "test_model = AirbnbPredictor(input_features) if not GPU else AirbnbPredictor(input_features).cuda()\ntrain_net(test_model, train_set, valid_set, batch_size=32, learning_rate=3e-4, num_epochs=1000, name='default')",
      "execution_count": null,
      "outputs": []
    },
    {
      "metadata": {
        "trusted": true,
        "_uuid": "f89f4d3707e823977cc5290aa19db3792c667ab3"
      },
      "cell_type": "code",
      "source": "test_loader = torch.utils.data.DataLoader(test_set, batch_size=32, shuffle=True, num_workers=0)\nevaluate(test_model, test_loader, torch.nn.MSELoss())",
      "execution_count": null,
      "outputs": []
    }
  ],
  "metadata": {
    "kernelspec": {
      "display_name": "Python 3",
      "language": "python",
      "name": "python3"
    },
    "language_info": {
      "name": "python",
      "version": "3.6.6",
      "mimetype": "text/x-python",
      "codemirror_mode": {
        "name": "ipython",
        "version": 3
      },
      "pygments_lexer": "ipython3",
      "nbconvert_exporter": "python",
      "file_extension": ".py"
    }
  },
  "nbformat": 4,
  "nbformat_minor": 1
}