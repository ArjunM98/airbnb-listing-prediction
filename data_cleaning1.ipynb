{
  "cells": [
    {
      "metadata": {
        "_uuid": "8f2839f25d086af736a60e9eeb907d3b93b6e0e5",
        "_cell_guid": "b1076dfc-b9ad-4769-8c92-a6c4dae69d19",
        "trusted": true,
        "scrolled": true
      },
      "cell_type": "code",
      "source": "import numpy as np\nimport pandas as pd\nimport os\nprint(os.listdir(\"../input\"))\nfrom re import sub\nfrom decimal import Decimal",
      "execution_count": null,
      "outputs": []
    },
    {
      "metadata": {
        "_uuid": "0d5bb77491692e25c486f3fc61d2b17bfb9192a0"
      },
      "cell_type": "markdown",
      "source": "# Grabbing Airbnb Listings Data\n\nWe chose specific data points from the listings data that we thought were easy for us to categorize during our data cleaning process, and, intuitively, seemed most relevant to predicting the pricing.\n\nData points:\n- host_is_superhost\n- neighbourhood_group_cleansed\n- property_type\n- room_type\n- latitude\n- longitude\n- guests_included\n- bathrooms\n- bedrooms\n- beds\n- bed_type\n- amenities\n- price\n- cleaning_fee\n- instant_bookable\n- cancellation_policy"
    },
    {
      "metadata": {
        "_cell_guid": "79c7e3d0-c299-4dcb-8224-4455121ee9b0",
        "_uuid": "d629ff2d2480ee46fbb7e2d37f6b5fab8052498a",
        "trusted": true
      },
      "cell_type": "code",
      "source": "listings = pd.read_csv('../input/listings.csv')\nld = listings.loc[:,['host_is_superhost','neighbourhood_group_cleansed', 'property_type', 'room_type', 'latitude', 'longitude', 'guests_included', 'bathrooms', 'bedrooms', 'beds', 'bed_type', 'amenities', 'price', 'cleaning_fee', 'instant_bookable', 'cancellation_policy']] ",
      "execution_count": null,
      "outputs": []
    },
    {
      "metadata": {
        "trusted": true,
        "_uuid": "64726fe7a3242e4fbf2b8dc71c0b25e2be957768"
      },
      "cell_type": "code",
      "source": "display(listings.head())",
      "execution_count": null,
      "outputs": []
    },
    {
      "metadata": {
        "trusted": true,
        "_uuid": "ee73f1cff6653748e059fe6fbaa08fee158d753a",
        "scrolled": true
      },
      "cell_type": "code",
      "source": "ld.count()",
      "execution_count": null,
      "outputs": []
    },
    {
      "metadata": {
        "_uuid": "0c89b9b2dcf03dce368f3d3a682e78863bcbdaf9"
      },
      "cell_type": "markdown",
      "source": "# Removing all the listings with missing values\n\nIn this step, we are looking for all the listings containing missing values.  We will remove them, and store them in another dataframe. "
    },
    {
      "metadata": {
        "trusted": true,
        "_uuid": "d613f7d57208d3fafa7eb76a9f9bf3732ae0964b"
      },
      "cell_type": "code",
      "source": "ld = ld.dropna(subset=['host_is_superhost','neighbourhood_group_cleansed', 'property_type', 'room_type', 'latitude', 'longitude', 'guests_included', 'bathrooms', 'bedrooms', 'beds', 'bed_type', 'amenities', 'price', 'instant_bookable', 'cancellation_policy']) \nld.count()",
      "execution_count": null,
      "outputs": []
    },
    {
      "metadata": {
        "trusted": true,
        "scrolled": true,
        "_uuid": "de0be20bfb8b58eb8264a6c92c20d65741f3b935"
      },
      "cell_type": "code",
      "source": "ld['cleaning_fee'] = ld['cleaning_fee'].fillna(0)",
      "execution_count": null,
      "outputs": []
    },
    {
      "metadata": {
        "trusted": true,
        "_uuid": "83c5be70416909ae8a9a36d8bf02d7fd31bf8865"
      },
      "cell_type": "code",
      "source": "ld['cleaning_fee'].head()",
      "execution_count": null,
      "outputs": []
    },
    {
      "metadata": {
        "trusted": true,
        "_uuid": "7243d318ada8f32c851a024e992e8197f4f362f8"
      },
      "cell_type": "code",
      "source": "ld.head()",
      "execution_count": null,
      "outputs": []
    },
    {
      "metadata": {
        "_uuid": "cfe2e1172e4348ac42e0934869d4e089951c89cd"
      },
      "cell_type": "markdown",
      "source": "## Column 1: host_is_superhost\n- Boolean declaring whether host fulfills Airbnb's superhost requirements: https://www.airbnb.ca/help/article/829/how-do-i-become-a-superhost\n- Convert `True = 1` and `False = 0`"
    },
    {
      "metadata": {
        "trusted": true,
        "_uuid": "e98c15a7bf3acf0dd815c6d35bd289f96a31447d"
      },
      "cell_type": "code",
      "source": "ld.loc[ld.loc[:, 'host_is_superhost'] == 't', 'host_is_superhost'] = 1\nld.loc[ld.loc[:, 'host_is_superhost'] == 'f', 'host_is_superhost'] = 0",
      "execution_count": null,
      "outputs": []
    },
    {
      "metadata": {
        "trusted": true,
        "_uuid": "fe13dbee2ae839b60b325fcb4f1469e63e7896f6"
      },
      "cell_type": "code",
      "source": "ld.head()",
      "execution_count": null,
      "outputs": []
    },
    {
      "metadata": {
        "_uuid": "7b510bdb450a4efe9d6532b9f5d4b255fd5572d1"
      },
      "cell_type": "markdown",
      "source": "## Column 2: neighbourhood_group_cleansed\n- neighborhood category string that states which neighbourhood it belongs to"
    },
    {
      "metadata": {
        "trusted": true,
        "_uuid": "0d6b6a6fb0a452ad3bf69fab8ec5f683e1013e4b"
      },
      "cell_type": "code",
      "source": "# all the possible values\nset(ld['neighbourhood_group_cleansed'])",
      "execution_count": null,
      "outputs": []
    },
    {
      "metadata": {
        "trusted": true,
        "_uuid": "17c5c602ff4e2ae887f94f8d5b1cb62ae880c167"
      },
      "cell_type": "code",
      "source": "neighbourhood = pd.get_dummies(ld['neighbourhood_group_cleansed'].str.lower().str.replace(' ', '_'))",
      "execution_count": null,
      "outputs": []
    },
    {
      "metadata": {
        "trusted": true,
        "_uuid": "64f5f75fad2dba530c10f01ffcf28447ac89d870"
      },
      "cell_type": "code",
      "source": "neighbourhood.head()",
      "execution_count": null,
      "outputs": []
    },
    {
      "metadata": {
        "trusted": true,
        "_uuid": "72ff2d49a7f07e82148c2f8782d1fef7c45b2839"
      },
      "cell_type": "code",
      "source": "ld_1 = pd.merge(ld, neighbourhood, left_index=True, right_index=True)\nld_1 = ld_1.drop('neighbourhood_group_cleansed', 1)",
      "execution_count": null,
      "outputs": []
    },
    {
      "metadata": {
        "trusted": true,
        "_uuid": "90d2c227fbbd55dea696dc1fd7d0f4e1082bcf89"
      },
      "cell_type": "code",
      "source": "ld_1.head()",
      "execution_count": null,
      "outputs": []
    },
    {
      "metadata": {
        "_uuid": "b36d20cb16cea2bae7b8bdc66303047f0fbc3afe"
      },
      "cell_type": "markdown",
      "source": " ## Column 3: Property type\n \n - Column indicates which property type it is(ex. house, apartment, etc)"
    },
    {
      "metadata": {
        "trusted": true,
        "_uuid": "a4580a913710787e8893771015eece2cc175d8a9"
      },
      "cell_type": "code",
      "source": "property_type = pd.get_dummies(ld_1['property_type'])",
      "execution_count": null,
      "outputs": []
    },
    {
      "metadata": {
        "trusted": true,
        "_uuid": "17a337b3d70141f1e13bded7893d68b72e5ea7f4"
      },
      "cell_type": "code",
      "source": "property_type.head()",
      "execution_count": null,
      "outputs": []
    },
    {
      "metadata": {
        "trusted": true,
        "_uuid": "9742aa5e2f667546c4a7e763d20c4f4ee0d650bd"
      },
      "cell_type": "code",
      "source": "ld_2 = pd.merge(ld_1, property_type, left_index=True, right_index=True)\nld_2 = ld_2.drop('property_type', 1)",
      "execution_count": null,
      "outputs": []
    },
    {
      "metadata": {
        "trusted": true,
        "_uuid": "cac241e5eca6ef01004e283baf1803eb2e1bc9c0"
      },
      "cell_type": "code",
      "source": "ld_2.head()",
      "execution_count": null,
      "outputs": []
    },
    {
      "metadata": {
        "_uuid": "6056dba94e48de0a9873b9ae8688b1f481885e22"
      },
      "cell_type": "markdown",
      "source": "## Column 4: Room type\n \n - Column indicates which room type it is(ex. Entire home/apt )"
    },
    {
      "metadata": {
        "trusted": true,
        "_uuid": "b84d4dfc0bd0eb910cc87f63ead9b6e87ef1a30b"
      },
      "cell_type": "code",
      "source": "room_type = pd.get_dummies(ld_2['room_type'])",
      "execution_count": null,
      "outputs": []
    },
    {
      "metadata": {
        "trusted": true,
        "_uuid": "7ad1fc16db6fce3699e779ab3c7b776749732425"
      },
      "cell_type": "code",
      "source": "room_type.head()",
      "execution_count": null,
      "outputs": []
    },
    {
      "metadata": {
        "trusted": true,
        "_uuid": "c9e9db01b55c6443b10cdc836f54f728174425dd"
      },
      "cell_type": "code",
      "source": "ld_3= pd.merge(ld_2, room_type, left_index=True, right_index=True)\nld_3 = ld_3.drop('room_type', 1)",
      "execution_count": null,
      "outputs": []
    },
    {
      "metadata": {
        "_uuid": "83437b894314af0bce7f9c34b3b1b7eafdcdae3b"
      },
      "cell_type": "markdown",
      "source": "## Column 5: Bed type\n \n - Column states what kind of bed the listing has(ex. Real Bed, Futon, etc )"
    },
    {
      "metadata": {
        "trusted": true,
        "_uuid": "33e6b232deeea225a883f2300da21f6dce8f3683"
      },
      "cell_type": "code",
      "source": "bed_type = pd.get_dummies(ld_3['bed_type'])",
      "execution_count": null,
      "outputs": []
    },
    {
      "metadata": {
        "trusted": true,
        "_uuid": "c2aa86f061f125064059950523ad2d7fb5053492"
      },
      "cell_type": "code",
      "source": "bed_type.head()",
      "execution_count": null,
      "outputs": []
    },
    {
      "metadata": {
        "trusted": true,
        "_uuid": "380ecd82c63b47d60493aeaf1c7ca9c17d16d911"
      },
      "cell_type": "code",
      "source": "ld_4= pd.merge(ld_3, bed_type, left_index=True, right_index=True)\nld_4 = ld_4.drop('bed_type', 1)",
      "execution_count": null,
      "outputs": []
    },
    {
      "metadata": {
        "_uuid": "603b66d3cf2ea9bbd438059011cf2c3bbe102fbe"
      },
      "cell_type": "markdown",
      "source": "## Column 6: Instant Bookable\n \n- Boolean declaring whether or not the listing can be instant booked. \n- Convert `True = 1` and `False = 0`"
    },
    {
      "metadata": {
        "trusted": true,
        "_uuid": "69eef258a743941ca298bd19bf5560b16cd905ac"
      },
      "cell_type": "code",
      "source": "ld_4.loc[ld_4.loc[:, 'instant_bookable'] == 't', 'instant_bookable'] = 1\nld_4.loc[ld_4.loc[:, 'instant_bookable'] == 'f', 'instant_bookable'] = 0",
      "execution_count": null,
      "outputs": []
    },
    {
      "metadata": {
        "trusted": true,
        "_uuid": "36e69ebd209ee0e219136511e216e6c59026498b"
      },
      "cell_type": "code",
      "source": "ld_4.head()",
      "execution_count": null,
      "outputs": []
    },
    {
      "metadata": {
        "_uuid": "8bdbcc298e0169fd846e07b8182b6c744ba4b764"
      },
      "cell_type": "markdown",
      "source": "## Column 7: Cancellation policy\n- Column indicates which kind of standardlized cancellation policy the host chooses.\n- There are three cancellation policies - flexible, moderate and strict "
    },
    {
      "metadata": {
        "trusted": true,
        "_uuid": "687d587c66938d45a610ef13f57a9b87bd88e032"
      },
      "cell_type": "code",
      "source": "cancellation = pd.get_dummies(ld_4['cancellation_policy'])",
      "execution_count": null,
      "outputs": []
    },
    {
      "metadata": {
        "trusted": true,
        "_uuid": "9dc1fedddaf55a5758cb81e7707c0bb15bb982d2"
      },
      "cell_type": "code",
      "source": "cancellation.head()",
      "execution_count": null,
      "outputs": []
    },
    {
      "metadata": {
        "trusted": true,
        "_uuid": "1e03278303e088fb4c84e951160318d6241551e5"
      },
      "cell_type": "code",
      "source": "ld_5= pd.merge(ld_4, cancellation, left_index=True, right_index=True)\nld_5 = ld_5.drop('cancellation_policy', 1)",
      "execution_count": null,
      "outputs": []
    },
    {
      "metadata": {
        "_uuid": "54985970d712eb60b2c9be380ddeb3074cd96b2c"
      },
      "cell_type": "markdown",
      "source": "# Column 8: Guest included \n- column states the number of guests can be accomodated for each listing\n- we need to normalize the value to 0-1"
    },
    {
      "metadata": {
        "trusted": true,
        "_uuid": "3ceea82eba54fa4ebbe126cd5c0813aa49dab5e8"
      },
      "cell_type": "code",
      "source": "ld_5['guests_included'].max()",
      "execution_count": null,
      "outputs": []
    },
    {
      "metadata": {
        "trusted": true,
        "_uuid": "397cd24811f5327eb877aec769b3f9055191c5d1"
      },
      "cell_type": "code",
      "source": "def normalizing(column):\n    new_column = (column - column.min()) / (column.max() - column.min())\n    return new_column",
      "execution_count": null,
      "outputs": []
    },
    {
      "metadata": {
        "trusted": true,
        "_uuid": "3cde13fe1626680dc8f7fd71f070ee3942e4036c"
      },
      "cell_type": "code",
      "source": "ld_5['guests_included'] = normalizing(ld_5['guests_included'])",
      "execution_count": null,
      "outputs": []
    },
    {
      "metadata": {
        "trusted": true,
        "_uuid": "9b960ec033a2729d2815c82f2b3b94f624390fc4"
      },
      "cell_type": "code",
      "source": "ld_5.head()",
      "execution_count": null,
      "outputs": []
    },
    {
      "metadata": {
        "_uuid": "6baf3e440cdce66a2aa847ed0bde02ee837abd5d"
      },
      "cell_type": "markdown",
      "source": "# Column 8, 9, 10: bathrooms, bedrooms, beds\n- column states the number of bathrooms, bedrooms, and beds in each listing\n- normalize the value to 0-1"
    },
    {
      "metadata": {
        "trusted": true,
        "_uuid": "9acc051ab388fcb8271749731843e05b8132c698"
      },
      "cell_type": "code",
      "source": "ld_5['bathrooms'] = normalizing(ld_5['bathrooms'])",
      "execution_count": null,
      "outputs": []
    },
    {
      "metadata": {
        "trusted": true,
        "_uuid": "5588c5b3a77a626b50cc9597e0c5fd0b14e532ec"
      },
      "cell_type": "code",
      "source": "ld_5['bedrooms'] = normalizing(ld_5['bedrooms'])",
      "execution_count": null,
      "outputs": []
    },
    {
      "metadata": {
        "trusted": true,
        "_uuid": "0bbb6ee504648d793f23c4779e4f3496e99492e6"
      },
      "cell_type": "code",
      "source": "ld_5['beds'] = normalizing(ld_5['beds'])",
      "execution_count": null,
      "outputs": []
    },
    {
      "metadata": {
        "trusted": true,
        "_uuid": "9a3edc5ec1536f5ebf896f9c5f9f3f7b2ab84929"
      },
      "cell_type": "code",
      "source": "ld_5.head()",
      "execution_count": null,
      "outputs": []
    },
    {
      "metadata": {
        "_uuid": "964339bdc31ad8ae4494eef1f884b6d1b2174d49"
      },
      "cell_type": "markdown",
      "source": "# Column 11, 12: Longitude and Latitude \n- column states the longitude and latitude of each listing \n- we can use these two values, and map them to x, y and z coordinates. In this way we can make sure close points in the 3D space are close to each other. \n- x = cos(lat) * cos(lon)\n- y = cos(lat) * sin(lon), \n- z = sin(lat) "
    },
    {
      "metadata": {
        "trusted": true,
        "_uuid": "6291acb2acae50e4c8d85de768fd7adc2e9c0b41"
      },
      "cell_type": "code",
      "source": "x = np.cos(ld_5['latitude']) * np.cos(ld_5['longitude'])\nx = normalizing(x)\ny = np.cos(ld_5['latitude']) * np.sin(ld_5['longitude'])\ny = normalizing(y)\nz = np.sin(ld_5['longitude']) \nz = normalizing(z)",
      "execution_count": null,
      "outputs": []
    },
    {
      "metadata": {
        "trusted": true,
        "_uuid": "fd9be3b7456527b86502e3d37e1b05264b23df12"
      },
      "cell_type": "code",
      "source": "ld_5['location_x'] = x\nld_5['location_y'] = y\nld_5['location_z'] = z",
      "execution_count": null,
      "outputs": []
    },
    {
      "metadata": {
        "trusted": true,
        "_uuid": "97ade12edd807a91fd887959cdb35a603afbca57"
      },
      "cell_type": "code",
      "source": "ld_6 = ld_5.drop('latitude', 1)\nld_7 = ld_6.drop('longitude', 1)",
      "execution_count": null,
      "outputs": []
    },
    {
      "metadata": {
        "trusted": true,
        "_uuid": "3c4c70d0fec0ccc1e1c278fea0ccdd14064ae3ff"
      },
      "cell_type": "code",
      "source": "ld_7.head()",
      "execution_count": null,
      "outputs": []
    },
    {
      "metadata": {
        "_uuid": "040720f934051f3811fcf2fe50be2a710a5e4396"
      },
      "cell_type": "markdown",
      "source": "# Column 13: price, cleaning fee\n- column includes the avrage price and cleaning_fee per night for each listing"
    },
    {
      "metadata": {
        "trusted": true,
        "_uuid": "0126fe7b7c598d5d44adfc7bd7dad0c5bee86eb7"
      },
      "cell_type": "code",
      "source": "ld_7['price'] = ld_7['price'].replace('[\\$,]','',regex=True).astype(float)\nld_7['cleaning_fee'] = ld_7['cleaning_fee'].replace('[\\$,]','',regex=True).astype(float)\nld_7['price'] = normalizing(ld_7['price'])\nld_7['cleaning_fee'] = normalizing(ld_7['cleaning_fee'] )",
      "execution_count": null,
      "outputs": []
    },
    {
      "metadata": {
        "trusted": true,
        "_uuid": "bb36d0a857dc3983b1f748d4dcf26046eaaf326d"
      },
      "cell_type": "code",
      "source": "ld_7.head()",
      "execution_count": null,
      "outputs": []
    },
    {
      "metadata": {
        "trusted": true,
        "_uuid": "869d5a510b1c20a3dd9442042fd4482f8d0d382f"
      },
      "cell_type": "markdown",
      "source": "# Column 14: Amenities \n- column indudes all the amentities for each listing"
    },
    {
      "metadata": {
        "trusted": true,
        "_uuid": "2252c030a2f212bc5414f531e06e533f365774d3"
      },
      "cell_type": "code",
      "source": "from sklearn.preprocessing import MultiLabelBinarizer\n\nld_7[\"amenities\"] = ld_7[\"amenities\"].str.lower().str.replace('{','').str.replace('}','').str.replace('\"','').str.replace(' ','_').str.split(',')\nld_7.head()\nmlb = MultiLabelBinarizer()\nfinal_df = ld_7.join(pd.DataFrame(mlb.fit_transform(ld_7.pop('amenities')),\n                          columns=mlb.classes_,\n                          index=ld_7.index))\n\n",
      "execution_count": null,
      "outputs": []
    },
    {
      "metadata": {
        "trusted": true,
        "_uuid": "0eea8737c580c02951bc3888ab0632a9b29f6eb8"
      },
      "cell_type": "code",
      "source": "final_df.head()",
      "execution_count": null,
      "outputs": []
    },
    {
      "metadata": {
        "trusted": true,
        "_uuid": "55a71d0a1d1f4d1016ae8d46df93b35590c2eb19"
      },
      "cell_type": "code",
      "source": "# Exporting as csv for later use\nfinal_df.to_csv('aps360_airbnb1.csv')",
      "execution_count": null,
      "outputs": []
    }
  ],
  "metadata": {
    "kernelspec": {
      "display_name": "Python 3",
      "language": "python",
      "name": "python3"
    },
    "language_info": {
      "name": "python",
      "version": "3.6.6",
      "mimetype": "text/x-python",
      "codemirror_mode": {
        "name": "ipython",
        "version": 3
      },
      "pygments_lexer": "ipython3",
      "nbconvert_exporter": "python",
      "file_extension": ".py"
    }
  },
  "nbformat": 4,
  "nbformat_minor": 1
}